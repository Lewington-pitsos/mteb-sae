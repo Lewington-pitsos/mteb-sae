{
 "cells": [
  {
   "cell_type": "code",
   "execution_count": 2,
   "metadata": {},
   "outputs": [],
   "source": [
    "import json\n",
    "import numpy as np\n",
    "import matplotlib.pyplot as plt"
   ]
  },
  {
   "cell_type": "code",
   "execution_count": 3,
   "metadata": {},
   "outputs": [],
   "source": [
    "\n",
    "with open('100-1-positive.json') as f:\n",
    "    pos = json.load(f)\n",
    "\n",
    "with open('100-0-negative.json') as f:\n",
    "    neg = json.load(f)"
   ]
  },
  {
   "cell_type": "code",
   "execution_count": 4,
   "metadata": {},
   "outputs": [
    {
     "data": {
      "text/plain": [
       "dict_keys(['max', 'frac_nonzero', 'skew', 'kurtosis', 'quantile_data', 'quantiles', 'ranges_and_precisions'])"
      ]
     },
     "execution_count": 4,
     "metadata": {},
     "output_type": "execute_result"
    }
   ],
   "source": [
    "neg['feature_stats'].keys()"
   ]
  },
  {
   "cell_type": "code",
   "execution_count": 46,
   "metadata": {},
   "outputs": [
    {
     "name": "stdout",
     "output_type": "stream",
     "text": [
      "[64 34 59  6 45 43 55 70 21 38]\n",
      "[0.0355072  0.00795364 0.00409698 0.00571442 0.00492477 0.00452805\n",
      " 0.00434494 0.00254059 0.00450897 0.00712204]\n",
      "[0.01712799 0.00279999 0.00184631 0.00183868 0.0015831  0.00133896\n",
      " 0.00112534 0.00112534 0.00111771 0.00076675]\n"
     ]
    },
    {
     "data": {
      "text/plain": [
       "[<matplotlib.lines.Line2D at 0x7f3c038d65c0>]"
      ]
     },
     "execution_count": 46,
     "metadata": {},
     "output_type": "execute_result"
    },
    {
     "data": {
      "image/png": "[encoded data removed]",
      "text/plain": [
       "<Figure size 640x480 with 1 Axes>"
      ]
     },
     "metadata": {},
     "output_type": "display_data"
    }
   ],
   "source": [
    "pos_frac = np.array(pos['feature_stats']['frac_nonzero'])\n",
    "neg_frac = np.array(neg['feature_stats']['frac_nonzero'])\n",
    "delta = pos_frac - neg_frac\n",
    "\n",
    "top_10 = np.argsort(delta)[::-1][:10]\n",
    "\n",
    "print(top_10)\n",
    "print(pos_frac[top_10])\n",
    "print(delta[top_10])\n",
    "\n",
    "plt.plot(delta[top_10])"
   ]
  },
  {
   "cell_type": "code",
   "execution_count": 8,
   "metadata": {},
   "outputs": [
    {
     "name": "stderr",
     "output_type": "stream",
     "text": [
      "/root/mteb-sae/v/lib/python3.10/site-packages/tqdm/auto.py:21: TqdmWarning: IProgress not found. Please update jupyter and ipywidgets. See https://ipywidgets.readthedocs.io/en/stable/user_install.html\n",
      "  from .autonotebook import tqdm as notebook_tqdm\n"
     ]
    }
   ],
   "source": [
    "from transformers import GPT2Tokenizer\n",
    "\n",
    "tok = GPT2Tokenizer.from_pretrained('gpt2')\n"
   ]
  },
  {
   "cell_type": "code",
   "execution_count": 45,
   "metadata": {},
   "outputs": [
    {
     "name": "stdout",
     "output_type": "stream",
     "text": [
      " a time capsule of an era when people still believed that ['era', 'when'] 38.2449\n",
      " Love is to remember the era from which it came, ['era'] 36.5857\n",
      " with rich details of the era's beliefs, superstitions ['era'] 36.4501\n",
      " actual stars of the golden era to get you into the ['era'] 34.063\n",
      "Many stars of the silent era have cameos in \" ['era'] 33.7188\n",
      "os of stars of the era make this a real treat ['era'] 33.5384\n",
      " look back at an exciting era in Hollywood's history and ['era', 'in'] 33.2568\n",
      " that, or any other era.<br /><br ['era'] 33.0275\n",
      " you'd think for this era) and make the non ['era'] 30.203\n",
      " biggest stars of the silent era. The movie captured my ['era'] 29.8678\n",
      ", far into the CGI era.<br /><br ['era'] 29.8161\n",
      " famous crime authors of that era. Needless to state that ['era'] 29.7781\n",
      " stereotypical movie star of that era, she kept repressing ['era'] 29.1688\n",
      " you, no matter what era it is set in, ['era'] 28.6808\n",
      " finest films of the silent era were being made in every ['era'] 27.9661\n",
      " for fans of the silent era, with many cameos ['era'] 27.4082\n",
      " young female actors of that era turned to sexual puer ['era'] 27.2249\n",
      " the best actresses of this era and she shines here. ['era'] 26.9539\n",
      " the start of a new era: \"The age of ['era', 'age'] 26.5495\n",
      " one of the great silent era comedies. The film ['era'] 25.2031\n"
     ]
    }
   ],
   "source": [
    "for i in range(20):\n",
    "    top_activations = pos['feature_data_dict']['23']['sequence_data']['seq_group_data'][0]['seq_data'][i]\n",
    "\n",
    "    token_ids = top_activations['token_ids']\n",
    "    feat_acts = top_activations['feat_acts']\n",
    "\n",
    "# print(tok.decode(token_ids))\n",
    "    # print(token_ids)\n",
    "    q = tok.decode(token_ids)\n",
    "    w = tok.convert_ids_to_tokens(token_ids)\n",
    "\n",
    "    wanted = []\n",
    "    for i, t in enumerate(w):\n",
    "        if feat_acts[i] > 0.0:\n",
    "            cleaned_token = t.replace('Ġ', '')\n",
    "            wanted.append(cleaned_token)\n",
    "    print(q, wanted, np.max(feat_acts))"
   ]
  },
  {
   "cell_type": "code",
   "execution_count": 60,
   "metadata": {},
   "outputs": [
    {
     "name": "stdout",
     "output_type": "stream",
     "text": [
      "Words with high feature activations: ['newly', 'widowed']\n"
     ]
    }
   ],
   "source": []
  },
  {
   "cell_type": "code",
   "execution_count": null,
   "metadata": {},
   "outputs": [],
   "source": [
    "model_name = 'gpt2'\n",
    "sae_release = 'gpt2-small-res-jb'\n",
    "sae_id = 'blocks.8.hook_resid_pre'\n",
    "max_seq_len = 256\n",
    "device = 'cpu'\n",
    "\n",
    "model = SAEEncoder(transformer_name=model_name, max_seq_len=max_seq_len, sae_release=sae_release, sae_id=sae_id, device=device)\n"
   ]
  },
  {
   "cell_type": "code",
   "execution_count": null,
   "metadata": {},
   "outputs": [],
   "source": [
    "sentences = ['give me some information about religion', 'I really really love dogs', 'I really really love jesus', \"and for 30 days and 30 nights jesus wandered the desert\"]"
   ]
  },
  {
   "cell_type": "code",
   "execution_count": null,
   "metadata": {},
   "outputs": [],
   "source": [
    "embeddings = model.encode(sentences)"
   ]
  },
  {
   "cell_type": "code",
   "execution_count": null,
   "metadata": {},
   "outputs": [],
   "source": [
    "cos = torch.nn.CosineSimilarity(dim=0, eps=1e-6)"
   ]
  },
  {
   "cell_type": "code",
   "execution_count": null,
   "metadata": {},
   "outputs": [],
   "source": [
    "embeddings.shape"
   ]
  },
  {
   "cell_type": "code",
   "execution_count": null,
   "metadata": {},
   "outputs": [],
   "source": [
    "# normalize each embedding \n",
    "\n",
    "embeddings = embeddings / torch.norm(embeddings, dim=1, keepdim=True)"
   ]
  },
  {
   "cell_type": "code",
   "execution_count": null,
   "metadata": {},
   "outputs": [],
   "source": [
    "# count number of zeros in each embedding\n",
    "\n",
    "num_zeros = torch.sum(embeddings == 0, dim=1)"
   ]
  },
  {
   "cell_type": "code",
   "execution_count": null,
   "metadata": {},
   "outputs": [],
   "source": [
    "# print the indices of the non-zero values for each embedding \n",
    "\n",
    "\n",
    "# for i in range(embeddings.shape[0]):\n",
    "#     print(i, torch.nonzero(embeddings[i]))\n",
    "\n",
    "# print the indices shared between all 3 embeddings\n",
    "\n",
    "shared = torch.nonzero(embeddings[0] * embeddings[1] * embeddings[2])\n",
    "print(len(shared))\n",
    "\n",
    "\n",
    "shared = torch.nonzero(embeddings[0] * embeddings[1])\n",
    "print('0 and 1', len(shared))\n",
    "\n",
    "shared = torch.nonzero(embeddings[0] * embeddings[2])\n",
    "print('0 and 2', len(shared))\n",
    "\n",
    "shared = torch.nonzero(embeddings[1] * embeddings[2])\n",
    "print('1 and 2', len(shared))\n",
    "    "
   ]
  },
  {
   "cell_type": "code",
   "execution_count": null,
   "metadata": {},
   "outputs": [],
   "source": [
    "# print the indices of the non-zero values for each embedding \n",
    "\n",
    "\n",
    "# for i in range(embeddings.shape[0]):\n",
    "#     print(i, torch.nonzero(embeddings[i]))\n",
    "\n",
    "# print the indices shared between all 3 embeddings\n",
    "\n",
    "shared = torch.nonzero(embeddings[0] * embeddings[1] * embeddings[2])\n",
    "print(len(shared))\n",
    "\n",
    "\n",
    "shared = torch.nonzero(embeddings[0] * embeddings[1])\n",
    "print('0 and 1', len(shared))\n",
    "\n",
    "shared = torch.nonzero(embeddings[0] * embeddings[2])\n",
    "print('0 and 2', len(shared))\n",
    "\n",
    "shared = torch.nonzero(embeddings[1] * embeddings[2])\n",
    "print('1 and 2', len(shared))\n",
    "    "
   ]
  },
  {
   "cell_type": "code",
   "execution_count": null,
   "metadata": {},
   "outputs": [],
   "source": []
  },
  {
   "cell_type": "code",
   "execution_count": null,
   "metadata": {},
   "outputs": [],
   "source": [
    "cos(embeddings[0], embeddings[1])"
   ]
  },
  {
   "cell_type": "code",
   "execution_count": null,
   "metadata": {},
   "outputs": [],
   "source": [
    "# calculate cosine difference between embeddings\n",
    "\n",
    "cos(embeddings[1], embeddings[2])\n",
    "\n"
   ]
  },
  {
   "cell_type": "code",
   "execution_count": null,
   "metadata": {},
   "outputs": [],
   "source": [
    "cos(embeddings[0], embeddings[2])\n"
   ]
  },
  {
   "cell_type": "code",
   "execution_count": null,
   "metadata": {},
   "outputs": [],
   "source": []
  }
 ],
 "metadata": {
  "kernelspec": {
   "display_name": "v",
   "language": "python",
   "name": "python3"
  },
  "language_info": {
   "codemirror_mode": {
    "name": "ipython",
    "version": 3
   },
   "file_extension": ".py",
   "mimetype": "text/x-python",
   "name": "python",
   "nbconvert_exporter": "python",
   "pygments_lexer": "ipython3",
   "version": "3.10.12"
  }
 },
 "nbformat": 4,
 "nbformat_minor": 2
}
